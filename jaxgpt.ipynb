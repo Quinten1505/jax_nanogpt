{
 "cells": [
  {
   "cell_type": "code",
   "execution_count": 3,
   "metadata": {},
   "outputs": [
    {
     "name": "stdout",
     "output_type": "stream",
     "text": [
      "Requirement already satisfied: jaxlib in c:\\users\\quintenbruinsmainspi\\anaconda3\\envs\\aipy310\\lib\\site-packages (0.4.20)\n",
      "Requirement already satisfied: ml-dtypes>=0.2.0 in c:\\users\\quintenbruinsmainspi\\anaconda3\\envs\\aipy310\\lib\\site-packages (from jaxlib) (0.3.1)\n",
      "Requirement already satisfied: scipy>=1.9 in c:\\users\\quintenbruinsmainspi\\anaconda3\\envs\\aipy310\\lib\\site-packages (from jaxlib) (1.11.3)\n",
      "Requirement already satisfied: numpy>=1.22 in c:\\users\\quintenbruinsmainspi\\anaconda3\\envs\\aipy310\\lib\\site-packages (from jaxlib) (1.26.1)\n",
      "Requirement already satisfied: jax in c:\\users\\quintenbruinsmainspi\\anaconda3\\envs\\aipy310\\lib\\site-packages (0.4.20)\n",
      "Requirement already satisfied: ml-dtypes>=0.2.0 in c:\\users\\quintenbruinsmainspi\\anaconda3\\envs\\aipy310\\lib\\site-packages (from jax) (0.3.1)\n",
      "Requirement already satisfied: numpy>=1.22 in c:\\users\\quintenbruinsmainspi\\anaconda3\\envs\\aipy310\\lib\\site-packages (from jax) (1.26.1)\n",
      "Requirement already satisfied: opt-einsum in c:\\users\\quintenbruinsmainspi\\anaconda3\\envs\\aipy310\\lib\\site-packages (from jax) (3.3.0)\n",
      "Requirement already satisfied: scipy>=1.9 in c:\\users\\quintenbruinsmainspi\\anaconda3\\envs\\aipy310\\lib\\site-packages (from jax) (1.11.3)\n",
      "Requirement already satisfied: numpy in c:\\users\\quintenbruinsmainspi\\anaconda3\\envs\\aipy310\\lib\\site-packages (1.26.1)\n",
      "Requirement already satisfied: autograd in c:\\users\\quintenbruinsmainspi\\anaconda3\\envs\\aipy310\\lib\\site-packages (1.6.2)\n",
      "Requirement already satisfied: future>=0.15.2 in c:\\users\\quintenbruinsmainspi\\anaconda3\\envs\\aipy310\\lib\\site-packages (from autograd) (0.18.3)\n",
      "Requirement already satisfied: numpy>=1.12 in c:\\users\\quintenbruinsmainspi\\anaconda3\\envs\\aipy310\\lib\\site-packages (from autograd) (1.26.1)\n"
     ]
    }
   ],
   "source": [
    "!pip install jaxlib\n",
    "!pip install jax\n",
    "!pip install numpy\n",
    "!pip install autograd"
   ]
  },
  {
   "cell_type": "code",
   "execution_count": 4,
   "metadata": {},
   "outputs": [],
   "source": [
    "import jax.numpy as jnp\n",
    "import jax.nn as jnn\n",
    "import jax.lax as lax\n",
    "from jax import grad, jit, vmap\n",
    "from jax import random"
   ]
  },
  {
   "cell_type": "code",
   "execution_count": 5,
   "metadata": {},
   "outputs": [
    {
     "name": "stdout",
     "output_type": "stream",
     "text": [
      "[-0.3721109   0.26423115 -0.18252768 -0.7368197  -0.44030377 -0.1521442\n",
      " -0.67135346 -0.5908641   0.73168886  0.5673026 ]\n"
     ]
    }
   ],
   "source": [
    "key = random.PRNGKey(0)\n",
    "x = random.normal(key, (10,))\n",
    "print(x)"
   ]
  },
  {
   "cell_type": "code",
   "execution_count": 6,
   "metadata": {},
   "outputs": [
    {
     "name": "stdout",
     "output_type": "stream",
     "text": [
      "159 ms ± 12.3 ms per loop (mean ± std. dev. of 7 runs, 1 loop each)\n"
     ]
    }
   ],
   "source": [
    "size = 3000\n",
    "x = random.normal(key, (size, size), dtype=jnp.float32)\n",
    "%timeit jnp.dot(x, x.T).block_until_ready()  # runs on the GPU"
   ]
  },
  {
   "cell_type": "code",
   "execution_count": 7,
   "metadata": {},
   "outputs": [
    {
     "name": "stdout",
     "output_type": "stream",
     "text": [
      "162 ms ± 2.47 ms per loop (mean ± std. dev. of 7 runs, 10 loops each)\n"
     ]
    }
   ],
   "source": [
    "import numpy as np\n",
    "x = np.random.normal(size=(size, size)).astype(np.float32)\n",
    "%timeit jnp.dot(x, x.T).block_until_ready()"
   ]
  },
  {
   "cell_type": "code",
   "execution_count": 8,
   "metadata": {},
   "outputs": [
    {
     "name": "stdout",
     "output_type": "stream",
     "text": [
      "166 ms ± 8.49 ms per loop (mean ± std. dev. of 7 runs, 10 loops each)\n"
     ]
    }
   ],
   "source": [
    "from jax import device_put\n",
    "\n",
    "x = np.random.normal(size=(size, size)).astype(np.float32)\n",
    "x = device_put(x)\n",
    "%timeit jnp.dot(x, x.T).block_until_ready()"
   ]
  },
  {
   "cell_type": "code",
   "execution_count": 9,
   "metadata": {},
   "outputs": [
    {
     "name": "stdout",
     "output_type": "stream",
     "text": [
      "4.3 ms ± 171 µs per loop (mean ± std. dev. of 7 runs, 100 loops each)\n"
     ]
    }
   ],
   "source": [
    "def selu(x, alpha=1.67, lmbda=1.05):\n",
    "  return lmbda * jnp.where(x > 0, x, alpha * jnp.exp(x) - alpha)\n",
    "\n",
    "x = random.normal(key, (1000000,))\n",
    "%timeit selu(x).block_until_ready()"
   ]
  },
  {
   "cell_type": "code",
   "execution_count": 10,
   "metadata": {},
   "outputs": [
    {
     "name": "stdout",
     "output_type": "stream",
     "text": [
      "807 µs ± 22.6 µs per loop (mean ± std. dev. of 7 runs, 1,000 loops each)\n"
     ]
    }
   ],
   "source": [
    "selu_jit = jit(selu)\n",
    "%timeit selu_jit(x).block_until_ready()"
   ]
  },
  {
   "cell_type": "code",
   "execution_count": 11,
   "metadata": {},
   "outputs": [
    {
     "name": "stdout",
     "output_type": "stream",
     "text": [
      "First Citizen:\n",
      "Before we proceed any further, hear me speak.\n",
      "\n",
      "All:\n",
      "Speak, speak.\n",
      "\n",
      "First Citizen:\n",
      "You\n"
     ]
    }
   ],
   "source": [
    "with open('input.txt', 'r', encoding='utf-8') as f:\n",
    "    text = f.read()\n",
    "\n",
    "print(text[:100])"
   ]
  },
  {
   "cell_type": "code",
   "execution_count": 12,
   "metadata": {},
   "outputs": [
    {
     "name": "stdout",
     "output_type": "stream",
     "text": [
      "\n",
      " !$&',-.3:;?ABCDEFGHIJKLMNOPQRSTUVWXYZabcdefghijklmnopqrstuvwxyz\n",
      "65\n"
     ]
    }
   ],
   "source": [
    "# Here are all the unique characters in the file\n",
    "chars = sorted(list(set(text)))\n",
    "vocab_size = len(chars)\n",
    "print(\"\".join(chars))\n",
    "print(vocab_size)"
   ]
  },
  {
   "cell_type": "code",
   "execution_count": 13,
   "metadata": {},
   "outputs": [],
   "source": [
    "# create a mapping from characters to indices\n",
    "stoi = { ch:i for i,ch in enumerate(chars) }\n",
    "itos = { i:ch for i,ch in enumerate(chars) }\n",
    "encode = lambda s: [stoi[c] for c in s]\n",
    "decode = lambda x: ''.join([itos[i] for i in x])"
   ]
  },
  {
   "cell_type": "code",
   "execution_count": 14,
   "metadata": {},
   "outputs": [
    {
     "name": "stdout",
     "output_type": "stream",
     "text": [
      "[46, 43, 50, 50, 53]\n",
      "hello\n"
     ]
    }
   ],
   "source": [
    "print(encode('hello'))\n",
    "print(decode(encode('hello')))"
   ]
  },
  {
   "cell_type": "code",
   "execution_count": 15,
   "metadata": {},
   "outputs": [
    {
     "name": "stdout",
     "output_type": "stream",
     "text": [
      "(1115394,) int32\n",
      "[18 47 56 57 58  1 15 47 58 47]\n"
     ]
    }
   ],
   "source": [
    "data = jnp.array(encode(text), dtype=jnp.int32)\n",
    "print(data.shape, data.dtype)\n",
    "print(data[:10])"
   ]
  },
  {
   "cell_type": "code",
   "execution_count": 16,
   "metadata": {},
   "outputs": [],
   "source": [
    "# split the data in 90% training and 10% validation\n",
    "n = int(len(data) * 0.9)\n",
    "train_data, val_data = data[:n], data[n:]"
   ]
  },
  {
   "cell_type": "code",
   "execution_count": 17,
   "metadata": {},
   "outputs": [
    {
     "data": {
      "text/plain": [
       "Array([18, 47, 56, 57, 58,  1, 15, 47, 58], dtype=int32)"
      ]
     },
     "execution_count": 17,
     "metadata": {},
     "output_type": "execute_result"
    }
   ],
   "source": [
    "block_size = 8\n",
    "train_data[:block_size+1]"
   ]
  },
  {
   "cell_type": "code",
   "execution_count": 18,
   "metadata": {},
   "outputs": [
    {
     "name": "stdout",
     "output_type": "stream",
     "text": [
      "When the input is [18] the target is 47\n",
      "When the input is [18 47] the target is 56\n",
      "When the input is [18 47 56] the target is 57\n",
      "When the input is [18 47 56 57] the target is 58\n",
      "When the input is [18 47 56 57 58] the target is 1\n",
      "When the input is [18 47 56 57 58  1] the target is 15\n",
      "When the input is [18 47 56 57 58  1 15] the target is 47\n",
      "When the input is [18 47 56 57 58  1 15 47] the target is 58\n"
     ]
    }
   ],
   "source": [
    "x = train_data[:block_size]\n",
    "y = train_data[1:block_size+1]\n",
    "for t in range(block_size):\n",
    "  context = x[:t+1]\n",
    "  target = y[t]\n",
    "  print(f\"When the input is {context} the target is {target}\")"
   ]
  },
  {
   "cell_type": "code",
   "execution_count": 19,
   "metadata": {},
   "outputs": [
    {
     "name": "stdout",
     "output_type": "stream",
     "text": [
      "inputs:\n",
      "(4, 8)\n",
      "[[ 0 32 46 39 58  1 57 46]\n",
      " [57  6  1 40 63  1 63 53]\n",
      " [ 1 58 43 50 50  1 63 53]\n",
      " [ 0 37 53 59 56  1 51 53]]\n",
      "targets:\n",
      "(4, 8)\n",
      "[[32 46 39 58  1 57 46 43]\n",
      " [ 6  1 40 63  1 63 53 59]\n",
      " [58 43 50 50  1 63 53 59]\n",
      " [37 53 59 56  1 51 53 58]]\n",
      "-----\n",
      "When the input is [0] the target is 32\n",
      "When the input is [ 0 32] the target is 46\n",
      "When the input is [ 0 32 46] the target is 39\n",
      "When the input is [ 0 32 46 39] the target is 58\n",
      "When the input is [ 0 32 46 39 58] the target is 1\n",
      "When the input is [ 0 32 46 39 58  1] the target is 57\n",
      "When the input is [ 0 32 46 39 58  1 57] the target is 46\n",
      "When the input is [ 0 32 46 39 58  1 57 46] the target is 43\n",
      "When the input is [57] the target is 6\n",
      "When the input is [57  6] the target is 1\n",
      "When the input is [57  6  1] the target is 40\n",
      "When the input is [57  6  1 40] the target is 63\n",
      "When the input is [57  6  1 40 63] the target is 1\n",
      "When the input is [57  6  1 40 63  1] the target is 63\n",
      "When the input is [57  6  1 40 63  1 63] the target is 53\n",
      "When the input is [57  6  1 40 63  1 63 53] the target is 59\n",
      "When the input is [1] the target is 58\n",
      "When the input is [ 1 58] the target is 43\n",
      "When the input is [ 1 58 43] the target is 50\n",
      "When the input is [ 1 58 43 50] the target is 50\n",
      "When the input is [ 1 58 43 50 50] the target is 1\n",
      "When the input is [ 1 58 43 50 50  1] the target is 63\n",
      "When the input is [ 1 58 43 50 50  1 63] the target is 53\n",
      "When the input is [ 1 58 43 50 50  1 63 53] the target is 59\n",
      "When the input is [0] the target is 37\n",
      "When the input is [ 0 37] the target is 53\n",
      "When the input is [ 0 37 53] the target is 59\n",
      "When the input is [ 0 37 53 59] the target is 56\n",
      "When the input is [ 0 37 53 59 56] the target is 1\n",
      "When the input is [ 0 37 53 59 56  1] the target is 51\n",
      "When the input is [ 0 37 53 59 56  1 51] the target is 53\n",
      "When the input is [ 0 37 53 59 56  1 51 53] the target is 58\n"
     ]
    }
   ],
   "source": [
    "batch_size = 4 # how amny indepentend sequences will we process in parallel?\n",
    "block_size = 8 # what is the maximum context length for prediction?\n",
    "\n",
    "def get_batch(split):\n",
    "  # generate a small batch of data of inputs x and targets y\n",
    "  data = train_data if split == 'train' else val_data\n",
    "  ix = random.randint(key, (batch_size,), 0, len(data) - block_size)\n",
    "  x = jnp.stack([data[i:i+block_size] for i in ix])\n",
    "  y = jnp.stack([data[i+1:i+block_size+1] for i in ix])\n",
    "  return x, y\n",
    "\n",
    "xb, yb = get_batch('train')\n",
    "print('inputs:')\n",
    "print(xb.shape)\n",
    "print(xb)\n",
    "print('targets:')\n",
    "print(yb.shape)\n",
    "print(yb)\n",
    "\n",
    "print('-----')\n",
    "\n",
    "for b in range(batch_size): # batch dimension\n",
    "  for t in range(block_size): # time dimension\n",
    "    context = xb[b, :t+1]\n",
    "    target = yb[b, t]\n",
    "    print(f\"When the input is {context} the target is {target}\")"
   ]
  },
  {
   "cell_type": "code",
   "execution_count": 20,
   "metadata": {},
   "outputs": [],
   "source": [
    "# Create the embedding table\n",
    "embedding_table = np.random.normal(size=(vocab_size, vocab_size)).astype(np.float32)"
   ]
  },
  {
   "cell_type": "code",
   "execution_count": 21,
   "metadata": {},
   "outputs": [],
   "source": [
    "class BigramLanguageModel():\n",
    "    def __init__(self):\n",
    "        pass\n",
    "  \n",
    "    def __call__(self, idx, embedding_table, target=None):\n",
    "    \n",
    "        logits = embedding_table[idx]\n",
    "\n",
    "        if target is None:\n",
    "            loss = None\n",
    "        else:\n",
    "            B, T, C = logits.shape\n",
    "            logits = logits.reshape(-1, C)\n",
    "            target = target.reshape(-1)\n",
    "            loss = jnp.mean(jnp.take(logits, target, axis=0))\n",
    "\n",
    "        return logits, loss\n",
    "  \n",
    "    def generate(self, idx, max_new_tokens, embedding_table):\n",
    "        for _ in range(max_new_tokens):\n",
    "            logits, _ = self(idx, embedding_table)\n",
    "            logits = logits[:,-1,:]\n",
    "            probs = jnn.softmax(logits, axis=1)\n",
    "            print(f\"The dimensions of the probs matrix: {probs.shape}\")\n",
    "            idx_next = random.categorical(key, probs, (1,)).item()\n",
    "            # idx_next = jnp.reshape(idx_next, (1,1))\n",
    "            print(idx_next.shape)\n",
    "            print(idx.shape)\n",
    "            idx = jnp.concatenate((idx, idx_next), axis=1)\n",
    "        return idx\n"
   ]
  },
  {
   "cell_type": "code",
   "execution_count": 26,
   "metadata": {},
   "outputs": [
    {
     "name": "stdout",
     "output_type": "stream",
     "text": [
      "(32, 65)\n",
      "nan\n"
     ]
    }
   ],
   "source": [
    "m = BigramLanguageModel()\n",
    "logits, loss = m(xb, embedding_table, yb)\n",
    "print(logits.shape)\n",
    "print(loss)"
   ]
  },
  {
   "cell_type": "code",
   "execution_count": 25,
   "metadata": {},
   "outputs": [
    {
     "name": "stdout",
     "output_type": "stream",
     "text": [
      "The dimensions of the probs matrix: (1, 65)\n"
     ]
    },
    {
     "ename": "TypeError",
     "evalue": "'>=' not supported between instances of 'tuple' and 'int'",
     "output_type": "error",
     "traceback": [
      "\u001b[1;31m---------------------------------------------------------------------------\u001b[0m",
      "\u001b[1;31mTypeError\u001b[0m                                 Traceback (most recent call last)",
      "Cell \u001b[1;32mIn[25], line 2\u001b[0m\n\u001b[0;32m      1\u001b[0m idx \u001b[38;5;241m=\u001b[39m jnp\u001b[38;5;241m.\u001b[39mzeros((\u001b[38;5;241m1\u001b[39m,\u001b[38;5;241m1\u001b[39m), dtype\u001b[38;5;241m=\u001b[39mjnp\u001b[38;5;241m.\u001b[39mint32)\n\u001b[1;32m----> 2\u001b[0m \u001b[38;5;28mprint\u001b[39m(decode(\u001b[43mm\u001b[49m\u001b[38;5;241;43m.\u001b[39;49m\u001b[43mgenerate\u001b[49m\u001b[43m(\u001b[49m\u001b[43midx\u001b[49m\u001b[43m,\u001b[49m\u001b[43m \u001b[49m\u001b[38;5;241;43m100\u001b[39;49m\u001b[43m,\u001b[49m\u001b[43m \u001b[49m\u001b[43membedding_table\u001b[49m\u001b[43m)\u001b[49m\u001b[38;5;241m.\u001b[39mflatten()))\n",
      "Cell \u001b[1;32mIn[21], line 25\u001b[0m, in \u001b[0;36mBigramLanguageModel.generate\u001b[1;34m(self, idx, max_new_tokens, embedding_table)\u001b[0m\n\u001b[0;32m     23\u001b[0m probs \u001b[38;5;241m=\u001b[39m jnn\u001b[38;5;241m.\u001b[39msoftmax(logits, axis\u001b[38;5;241m=\u001b[39m\u001b[38;5;241m1\u001b[39m)\n\u001b[0;32m     24\u001b[0m \u001b[38;5;28mprint\u001b[39m(\u001b[38;5;124mf\u001b[39m\u001b[38;5;124m\"\u001b[39m\u001b[38;5;124mThe dimensions of the probs matrix: \u001b[39m\u001b[38;5;132;01m{\u001b[39;00mprobs\u001b[38;5;241m.\u001b[39mshape\u001b[38;5;132;01m}\u001b[39;00m\u001b[38;5;124m\"\u001b[39m)\n\u001b[1;32m---> 25\u001b[0m idx_next \u001b[38;5;241m=\u001b[39m \u001b[43mrandom\u001b[49m\u001b[38;5;241;43m.\u001b[39;49m\u001b[43mcategorical\u001b[49m\u001b[43m(\u001b[49m\u001b[43mkey\u001b[49m\u001b[43m,\u001b[49m\u001b[43m \u001b[49m\u001b[43mprobs\u001b[49m\u001b[43m,\u001b[49m\u001b[43m \u001b[49m\u001b[43m(\u001b[49m\u001b[38;5;241;43m1\u001b[39;49m\u001b[43m,\u001b[49m\u001b[43m)\u001b[49m\u001b[43m)\u001b[49m\u001b[38;5;241m.\u001b[39mitem()\n\u001b[0;32m     26\u001b[0m \u001b[38;5;66;03m# idx_next = jnp.reshape(idx_next, (1,1))\u001b[39;00m\n\u001b[0;32m     27\u001b[0m \u001b[38;5;28mprint\u001b[39m(idx_next\u001b[38;5;241m.\u001b[39mshape)\n",
      "File \u001b[1;32mc:\\Users\\QuintenBruinsmaInspi\\anaconda3\\envs\\aipy310\\lib\\site-packages\\jax\\_src\\random.py:1583\u001b[0m, in \u001b[0;36mcategorical\u001b[1;34m(key, logits, axis, shape)\u001b[0m\n\u001b[0;32m   1580\u001b[0m check_arraylike(\u001b[38;5;124m\"\u001b[39m\u001b[38;5;124mcategorical\u001b[39m\u001b[38;5;124m\"\u001b[39m, logits)\n\u001b[0;32m   1581\u001b[0m logits_arr \u001b[38;5;241m=\u001b[39m jnp\u001b[38;5;241m.\u001b[39masarray(logits)\n\u001b[1;32m-> 1583\u001b[0m \u001b[38;5;28;01mif\u001b[39;00m \u001b[43maxis\u001b[49m\u001b[43m \u001b[49m\u001b[38;5;241;43m>\u001b[39;49m\u001b[38;5;241;43m=\u001b[39;49m\u001b[43m \u001b[49m\u001b[38;5;241;43m0\u001b[39;49m:\n\u001b[0;32m   1584\u001b[0m   axis \u001b[38;5;241m-\u001b[39m\u001b[38;5;241m=\u001b[39m \u001b[38;5;28mlen\u001b[39m(logits_arr\u001b[38;5;241m.\u001b[39mshape)\n\u001b[0;32m   1586\u001b[0m batch_shape \u001b[38;5;241m=\u001b[39m \u001b[38;5;28mtuple\u001b[39m(np\u001b[38;5;241m.\u001b[39mdelete(logits_arr\u001b[38;5;241m.\u001b[39mshape, axis))\n",
      "\u001b[1;31mTypeError\u001b[0m: '>=' not supported between instances of 'tuple' and 'int'"
     ]
    }
   ],
   "source": [
    "idx = jnp.zeros((1,1), dtype=jnp.int32)\n",
    "print(decode(m.generate(idx, 100, embedding_table).flatten()))"
   ]
  },
  {
   "cell_type": "code",
   "execution_count": null,
   "metadata": {},
   "outputs": [],
   "source": [
    "import jax.lax as lax\n",
    "a = jnp.array([1,2,3])\n",
    "b = jnp.array([4])\n",
    "\n",
    "c = jnp.concatenate([a, b])"
   ]
  },
  {
   "cell_type": "code",
   "execution_count": null,
   "metadata": {},
   "outputs": [],
   "source": []
  }
 ],
 "metadata": {
  "kernelspec": {
   "display_name": "aipy310",
   "language": "python",
   "name": "python3"
  },
  "language_info": {
   "codemirror_mode": {
    "name": "ipython",
    "version": 3
   },
   "file_extension": ".py",
   "mimetype": "text/x-python",
   "name": "python",
   "nbconvert_exporter": "python",
   "pygments_lexer": "ipython3",
   "version": "3.10.9"
  }
 },
 "nbformat": 4,
 "nbformat_minor": 2
}
